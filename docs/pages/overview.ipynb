{
 "cells": [
  {
   "cell_type": "markdown",
   "metadata": {},
   "source": [
    "# Overview\n",
    "\n",
    "**libraryname** lets you ... \n",
    "\n",
    "{{< lipsum 1 >}}\n",
    "\n",
    "## Installation\n",
    "\n",
    "```bash\n",
    "conda install -c munch-group libraryname\n",
    "```\n",
    "\n",
    "## Basic use\n",
    "\n",
    "{{< lipsum 1 >}}\n",
    "\n",
    "## Some use case\n",
    "\n",
    "The [functionname function](`libraryname.modulename.functionname`) does ... [](`libraryname.modulename.functionname`) does ... [](`~libraryname.modulename.functionname`) does ...\n",
    "\n",
    "{{< lipsum 1 >}}\n"
   ]
  },
  {
   "cell_type": "code",
   "execution_count": 1,
   "metadata": {
    "execution": {
     "iopub.execute_input": "2025-01-04T12:59:34.514899Z",
     "iopub.status.busy": "2025-01-04T12:59:34.514557Z",
     "iopub.status.idle": "2025-01-04T12:59:34.525248Z",
     "shell.execute_reply": "2025-01-04T12:59:34.524829Z"
    }
   },
   "outputs": [
    {
     "data": {
      "text/plain": [
       "7"
      ]
     },
     "execution_count": 1,
     "metadata": {},
     "output_type": "execute_result"
    }
   ],
   "source": [
    "from libraryname.modulename import functionname\n",
    "functionname(3, 4)"
   ]
  },
  {
   "cell_type": "markdown",
   "metadata": {},
   "source": [
    "{{< lipsum 1 >}}\n",
    "\n",
    "```yaml\n",
    "contents:\n",
    "  - MdRenderer\n",
    "```\n",
    "\n",
    "{{< lipsum 1 >}}\n",
    "\n",
    "## Learning more\n",
    "\n",
    "Go [to the anvanced page](overview.ipynb) to learn how to ...\n",
    "\n",
    "* [Examples page](overview.ipynb): sites using quartodoc.\n"
   ]
  },
  {
   "cell_type": "markdown",
   "metadata": {},
   "source": []
  }
 ],
 "metadata": {
  "kernelspec": {
   "display_name": "base",
   "language": "python",
   "name": "python3"
  },
  "language_info": {
   "codemirror_mode": {
    "name": "ipython",
    "version": 3
   },
   "file_extension": ".py",
   "mimetype": "text/x-python",
   "name": "python",
   "nbconvert_exporter": "python",
   "pygments_lexer": "ipython3",
   "version": "3.12.2"
  }
 },
 "nbformat": 4,
 "nbformat_minor": 2
}
